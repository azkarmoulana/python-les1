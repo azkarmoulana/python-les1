{
 "cells": [
  {
   "cell_type": "code",
   "execution_count": 11,
   "metadata": {},
   "outputs": [
    {
     "name": "stdout",
     "output_type": "stream",
     "text": [
      "a is less than b\n",
      "a is definitely less than b\n",
      "not sure a is greater than b\n"
     ]
    }
   ],
   "source": [
    "a = 1\n",
    "b = 2\n",
    "if a < b:\n",
    "    print (\"a is less than b\")\n",
    "    print (\"a is definitely less than b\")\n",
    "print (\"not sure a is greater than b\")    "
   ]
  },
  {
   "cell_type": "code",
   "execution_count": 13,
   "metadata": {},
   "outputs": [
    {
     "name": "stdout",
     "output_type": "stream",
     "text": [
      "c is not less than d\n",
      "c is grater than d\n",
      "this is outside of the if statement\n"
     ]
    }
   ],
   "source": [
    "c = 8\n",
    "d = 5\n",
    "if c < d:\n",
    "    print (\"c is less than d\")\n",
    "else:\n",
    "    print (\"c is not less than d\")\n",
    "    print (\"c is grater than d\")\n",
    "print (\"this is outside of the if statement\")    "
   ]
  },
  {
   "cell_type": "code",
   "execution_count": 16,
   "metadata": {},
   "outputs": [
    {
     "name": "stdout",
     "output_type": "stream",
     "text": [
      "e is quals to f\n"
     ]
    }
   ],
   "source": [
    "e = 8\n",
    "f = 8\n",
    "if e < f:\n",
    "    print (\"e is less than f\")\n",
    "elif e == f:\n",
    "    print (\"e is quals to f\")\n",
    "else:\n",
    "    print (\"e is greater than f\")"
   ]
  },
  {
   "cell_type": "code",
   "execution_count": null,
   "metadata": {},
   "outputs": [],
   "source": [
    "g = 6\n",
    "h = 7\n",
    "if g < h:\n",
    "    pri"
   ]
  }
 ],
 "metadata": {
  "kernelspec": {
   "display_name": "Python 3",
   "language": "python",
   "name": "python3"
  },
  "language_info": {
   "codemirror_mode": {
    "name": "ipython",
    "version": 3
   },
   "file_extension": ".py",
   "mimetype": "text/x-python",
   "name": "python",
   "nbconvert_exporter": "python",
   "pygments_lexer": "ipython3",
   "version": "3.6.5"
  }
 },
 "nbformat": 4,
 "nbformat_minor": 2
}
