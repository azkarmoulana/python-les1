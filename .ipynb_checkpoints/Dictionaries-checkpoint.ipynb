{
 "cells": [
  {
   "cell_type": "code",
   "execution_count": 5,
   "metadata": {},
   "outputs": [],
   "source": [
    "# declare a new dictionary\n",
    "\n",
    "d = {}\n",
    "# d = {\"George\": 24}"
   ]
  },
  {
   "cell_type": "code",
   "execution_count": 11,
   "metadata": {},
   "outputs": [],
   "source": [
    "d[\"George\"] = 24\n",
    "d[\"Tim\"] = 13\n",
    "d[\"Jenny\"] = 16"
   ]
  },
  {
   "cell_type": "code",
   "execution_count": 15,
   "metadata": {},
   "outputs": [
    {
     "name": "stdout",
     "output_type": "stream",
     "text": [
      "13\n",
      "16\n"
     ]
    }
   ],
   "source": [
    "print (d[\"Tim\"])\n",
    "print (d[\"Jenny\"])"
   ]
  },
  {
   "cell_type": "code",
   "execution_count": 16,
   "metadata": {},
   "outputs": [],
   "source": [
    "# in a dictionary,\n",
    "# values can be any type\n",
    "# keys can only be strings or numbers\n",
    "\n",
    "d[10] = 100"
   ]
  },
  {
   "cell_type": "code",
   "execution_count": 18,
   "metadata": {},
   "outputs": [
    {
     "name": "stdout",
     "output_type": "stream",
     "text": [
      "{'George': 24, 'Tim': 13, 'Jenny': 16, 10: 100}\n"
     ]
    }
   ],
   "source": [
    "print (d)"
   ]
  },
  {
   "cell_type": "code",
   "execution_count": 28,
   "metadata": {},
   "outputs": [
    {
     "name": "stdout",
     "output_type": "stream",
     "text": [
      "key :\n",
      "George\n",
      "value :\n",
      "24\n",
      " \n",
      "key :\n",
      "Tim\n",
      "value :\n",
      "13\n",
      " \n",
      "key :\n",
      "Jenny\n",
      "value :\n",
      "16\n",
      " \n",
      "key :\n",
      "10\n",
      "value :\n",
      "100\n",
      " \n"
     ]
    }
   ],
   "source": [
    "# how to iterate over key value pairs ?\n",
    "for key, value in d.items():\n",
    "    print (\"key :\") \n",
    "    print (key)\n",
    "    print (\"value :\")\n",
    "    print (value)\n",
    "    print (\" \")"
   ]
  },
  {
   "cell_type": "code",
   "execution_count": null,
   "metadata": {},
   "outputs": [],
   "source": []
  }
 ],
 "metadata": {
  "kernelspec": {
   "display_name": "Python 3",
   "language": "python",
   "name": "python3"
  },
  "language_info": {
   "codemirror_mode": {
    "name": "ipython",
    "version": 3
   },
   "file_extension": ".py",
   "mimetype": "text/x-python",
   "name": "python",
   "nbconvert_exporter": "python",
   "pygments_lexer": "ipython3",
   "version": "3.6.5"
  }
 },
 "nbformat": 4,
 "nbformat_minor": 2
}
