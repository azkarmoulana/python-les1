{
 "cells": [
  {
   "cell_type": "code",
   "execution_count": 21,
   "metadata": {},
   "outputs": [],
   "source": [
    "# define the class\n",
    "\n",
    "class Robot:\n",
    "    def introduce_self(self):\n",
    "        print (\"My name is \" + self.name) # self is equal to this in java \n",
    "        #print (\"My color is \" + self.color)\n",
    "        #print (\"My weighet is \" + self.weight)"
   ]
  },
  {
   "cell_type": "code",
   "execution_count": 22,
   "metadata": {},
   "outputs": [],
   "source": [
    "# declare the object\n",
    "r1 = Robot()\n",
    "r1.name = \"Tom\"\n",
    "r1.color = \"Red\"\n",
    "r1.weight = 30\n",
    "\n",
    "r2 = Robot()\n",
    "r2.name = \"Jerry\"\n",
    "r2.color = \"Blue\"\n",
    "r2.weight = 40"
   ]
  },
  {
   "cell_type": "code",
   "execution_count": 23,
   "metadata": {},
   "outputs": [
    {
     "name": "stdout",
     "output_type": "stream",
     "text": [
      "My name is Tom\n",
      "My color is Red\n"
     ]
    }
   ],
   "source": [
    "r1.introduce_self()"
   ]
  },
  {
   "cell_type": "code",
   "execution_count": null,
   "metadata": {},
   "outputs": [],
   "source": []
  }
 ],
 "metadata": {
  "kernelspec": {
   "display_name": "Python 3",
   "language": "python",
   "name": "python3"
  },
  "language_info": {
   "codemirror_mode": {
    "name": "ipython",
    "version": 3
   },
   "file_extension": ".py",
   "mimetype": "text/x-python",
   "name": "python",
   "nbconvert_exporter": "python",
   "pygments_lexer": "ipython3",
   "version": "3.6.5"
  }
 },
 "nbformat": 4,
 "nbformat_minor": 2
}
