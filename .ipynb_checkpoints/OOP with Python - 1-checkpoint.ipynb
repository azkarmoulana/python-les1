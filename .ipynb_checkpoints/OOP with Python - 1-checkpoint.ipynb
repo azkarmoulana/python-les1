{
 "cells": [
  {
   "cell_type": "code",
   "execution_count": 10,
   "metadata": {},
   "outputs": [],
   "source": [
    "# define the class\n",
    "\n",
    "class Robot:\n",
    "    def __init__(blah, name, color, weight): # constructor\n",
    "        blah.name = name\n",
    "        blah.color = color\n",
    "        blah.weight = weight\n",
    "        \n",
    "    def introduce_self(b):\n",
    "        print (\"My name is \" + b.name) # self is equal to this in java \n",
    "        #print (\"My color is \" + self.color)\n",
    "        #print (\"My weighet is \" + self.weight)"
   ]
  },
  {
   "cell_type": "code",
   "execution_count": 11,
   "metadata": {},
   "outputs": [],
   "source": [
    "# declare the object\n",
    "# r1 = Robot()\n",
    "# r1.name = \"Tom\"\n",
    "# r1.color = \"Red\"\n",
    "# r1.weight = 30\n",
    "\n",
    "# r2 = Robot()\n",
    "# r2.name = \"Jerry\"\n",
    "# r2.color = \"Blue\"\n",
    "# r2.weight = 40\n",
    "\n",
    "r1 = Robot(\"Tim\", \"red\", 30)\n",
    "r2 = Robot(\"Will\", \"blue\", 40)"
   ]
  },
  {
   "cell_type": "code",
   "execution_count": 12,
   "metadata": {},
   "outputs": [
    {
     "name": "stdout",
     "output_type": "stream",
     "text": [
      "My name is Tim\n",
      "My name is Will\n"
     ]
    }
   ],
   "source": [
    "r1.introduce_self()\n",
    "r2.introduce_self()"
   ]
  },
  {
   "cell_type": "code",
   "execution_count": null,
   "metadata": {},
   "outputs": [],
   "source": []
  }
 ],
 "metadata": {
  "kernelspec": {
   "display_name": "Python 3",
   "language": "python",
   "name": "python3"
  }
 },
 "nbformat": 4,
 "nbformat_minor": 2
}
