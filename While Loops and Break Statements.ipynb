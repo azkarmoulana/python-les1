{
 "cells": [
  {
   "cell_type": "code",
   "execution_count": null,
   "metadata": {},
   "outputs": [],
   "source": [
    "# while loops\n",
    "\n",
    "#python is a general purpose high level powerful programming language for scripting, web site backend development and it is really easy to learn. in my collage i learned c programming which is also a general purpose fast programming language but it is not a object oriented programming language. then i learned c++ whic is a incremented version of c programming and mostly used for application core development."
   ]
  }
 ],
 "metadata": {
  "kernelspec": {
   "display_name": "Python 3",
   "language": "python",
   "name": "python3"
  },
  "language_info": {
   "codemirror_mode": {
    "name": "ipython",
    "version": 3
   },
   "file_extension": ".py",
   "mimetype": "text/x-python",
   "name": "python",
   "nbconvert_exporter": "python",
   "pygments_lexer": "ipython3",
   "version": "3.6.5"
  }
 },
 "nbformat": 4,
 "nbformat_minor": 2
}
