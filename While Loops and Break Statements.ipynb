{
 "cells": [
  {
   "cell_type": "code",
   "execution_count": 2,
   "metadata": {},
   "outputs": [
    {
     "name": "stdout",
     "output_type": "stream",
     "text": [
      "10\n"
     ]
    }
   ],
   "source": [
    "# while loops\n",
    "\n",
    "## for loops\n",
    "total = 0\n",
    "\n",
    "for i in range(1,5):\n",
    "    total += i\n",
    "print (total)    "
   ]
  },
  {
   "cell_type": "code",
   "execution_count": 4,
   "metadata": {},
   "outputs": [
    {
     "name": "stdout",
     "output_type": "stream",
     "text": [
      "10\n"
     ]
    }
   ],
   "source": [
    "## same thing using the while loop\n",
    "\n",
    "total1 = 0\n",
    "j = 1\n",
    "\n",
    "while j < 5:\n",
    "    total1 += j\n",
    "    j += 1\n",
    "print (total1)    "
   ]
  },
  {
   "cell_type": "code",
   "execution_count": 10,
   "metadata": {},
   "outputs": [
    {
     "name": "stdout",
     "output_type": "stream",
     "text": [
      "17\n"
     ]
    }
   ],
   "source": [
    "given_list = [5, 4, 4, 3, 1]\n",
    "\n",
    "total3 = 0\n",
    "i = 0\n",
    "\n",
    "while i < len(given_list) and given_list[i] > 0:\n",
    "    total3 += given_list[i]\n",
    "    i += 1\n",
    "print (total3)"
   ]
  },
  {
   "cell_type": "code",
   "execution_count": 3,
   "metadata": {},
   "outputs": [
    {
     "name": "stdout",
     "output_type": "stream",
     "text": [
      "17\n"
     ]
    }
   ],
   "source": [
    "given_list2 = [5, 4, 4, 3, 1, -1, -2, -2, -3]\n",
    "\n",
    "total4 = 0 \n",
    "for element in given_list2:\n",
    "    if element <= 0:\n",
    "        break\n",
    "    total4 += element\n",
    "print (total4)    "
   ]
  },
  {
   "cell_type": "code",
   "execution_count": 4,
   "metadata": {},
   "outputs": [
    {
     "name": "stdout",
     "output_type": "stream",
     "text": [
      "17\n"
     ]
    }
   ],
   "source": [
    "# given_list2 = [5, 4, 4, 3, 1, -1, -2, -2, -3]\n",
    "\n",
    "total5 = 0\n",
    "k = 0\n",
    "\n",
    "while True:\n",
    "    total5 += given_list2[k]\n",
    "    k += 1\n",
    "    if given_list2[k] <= 0:\n",
    "        break\n",
    "print (total5)        "
   ]
  },
  {
   "cell_type": "code",
   "execution_count": null,
   "metadata": {},
   "outputs": [],
   "source": [
    "# find the sum of all the nagative numbers in the list \n",
    "given_list3 = [7, 5, 4, 4, 3, 1, -1, -2, -2, -3, -7]"
   ]
  }
 ],
 "metadata": {
  "kernelspec": {
   "display_name": "Python 3",
   "language": "python",
   "name": "python3"
  },
  "language_info": {
   "codemirror_mode": {
    "name": "ipython",
    "version": 3
   },
   "file_extension": ".py",
   "mimetype": "text/x-python",
   "name": "python",
   "nbconvert_exporter": "python",
   "pygments_lexer": "ipython3",
   "version": "3.6.5"
  }
 },
 "nbformat": 4,
 "nbformat_minor": 2
}
